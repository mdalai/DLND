{
 "cells": [
  {
   "cell_type": "markdown",
   "metadata": {
    "collapsed": true,
    "deletable": true,
    "editable": true
   },
   "source": [
    "# Image Classification\n",
    "In this project, you'll classify images from the [CIFAR-10 dataset](https://www.cs.toronto.edu/~kriz/cifar.html).  The dataset consists of airplanes, dogs, cats, and other objects. You'll preprocess the images, then train a convolutional neural network on all the samples. The images need to be normalized and the labels need to be one-hot encoded.  You'll get to apply what you learned and build a convolutional, max pooling, dropout, and fully connected layers.  At the end, you'll get to see your neural network's predictions on the sample images.\n",
    "## Get the Data\n",
    "Run the following cell to download the [CIFAR-10 dataset for python](https://www.cs.toronto.edu/~kriz/cifar-10-python.tar.gz)."
   ]
  },
  {
   "cell_type": "code",
   "execution_count": 1,
   "metadata": {
    "collapsed": false,
    "deletable": true,
    "editable": true
   },
   "outputs": [
    {
     "name": "stdout",
     "output_type": "stream",
     "text": [
      "All files found!\n"
     ]
    }
   ],
   "source": [
    "\"\"\"\n",
    "DON'T MODIFY ANYTHING IN THIS CELL THAT IS BELOW THIS LINE\n",
    "\"\"\"\n",
    "from urllib.request import urlretrieve\n",
    "from os.path import isfile, isdir\n",
    "from tqdm import tqdm\n",
    "import problem_unittests as tests\n",
    "import tarfile\n",
    "\n",
    "cifar10_dataset_folder_path = 'cifar-10-batches-py'\n",
    "\n",
    "class DLProgress(tqdm):\n",
    "    last_block = 0\n",
    "\n",
    "    def hook(self, block_num=1, block_size=1, total_size=None):\n",
    "        self.total = total_size\n",
    "        self.update((block_num - self.last_block) * block_size)\n",
    "        self.last_block = block_num\n",
    "\n",
    "if not isfile('cifar-10-python.tar.gz'):\n",
    "    with DLProgress(unit='B', unit_scale=True, miniters=1, desc='CIFAR-10 Dataset') as pbar:\n",
    "        urlretrieve(\n",
    "            'https://www.cs.toronto.edu/~kriz/cifar-10-python.tar.gz',\n",
    "            'cifar-10-python.tar.gz',\n",
    "            pbar.hook)\n",
    "\n",
    "if not isdir(cifar10_dataset_folder_path):\n",
    "    with tarfile.open('cifar-10-python.tar.gz') as tar:\n",
    "        tar.extractall()\n",
    "        tar.close()\n",
    "\n",
    "\n",
    "tests.test_folder_path(cifar10_dataset_folder_path)"
   ]
  },
  {
   "cell_type": "markdown",
   "metadata": {
    "deletable": true,
    "editable": true
   },
   "source": [
    "## Explore the Data\n",
    "The dataset is broken into batches to prevent your machine from running out of memory.  The CIFAR-10 dataset consists of 5 batches, named `data_batch_1`, `data_batch_2`, etc.. Each batch contains the labels and images that are one of the following:\n",
    "* airplane\n",
    "* automobile\n",
    "* bird\n",
    "* cat\n",
    "* deer\n",
    "* dog\n",
    "* frog\n",
    "* horse\n",
    "* ship\n",
    "* truck\n",
    "\n",
    "Understanding a dataset is part of making predictions on the data.  Play around with the code cell below by changing the `batch_id` and `sample_id`. The `batch_id` is the id for a batch (1-5). The `sample_id` is the id for a image and label pair in the batch.\n",
    "\n",
    "Ask yourself \"What are all possible labels?\", \"What is the range of values for the image data?\", \"Are the labels in order or random?\".  Answers to questions like these will help you preprocess the data and end up with better predictions."
   ]
  },
  {
   "cell_type": "code",
   "execution_count": 2,
   "metadata": {
    "collapsed": false,
    "deletable": true,
    "editable": true
   },
   "outputs": [
    {
     "name": "stdout",
     "output_type": "stream",
     "text": [
      "\n",
      "Stats of batch 1:\n",
      "Samples: 10000\n",
      "Label Counts: {0: 1005, 1: 974, 2: 1032, 3: 1016, 4: 999, 5: 937, 6: 1030, 7: 1001, 8: 1025, 9: 981}\n",
      "First 20 Labels: [6, 9, 9, 4, 1, 1, 2, 7, 8, 3, 4, 7, 7, 2, 9, 9, 9, 3, 2, 6]\n",
      "\n",
      "Example of Image 15:\n",
      "Image - Min Value: 5 Max Value: 255\n",
      "Image - Shape: (32, 32, 3)\n",
      "Label - Label Id: 9 Name: truck\n"
     ]
    },
    {
     "data": {
      "image/png": "[encoded data removed]",
      "text/plain": [
       "<matplotlib.figure.Figure at 0x7fe168f89c88>"
      ]
     },
     "metadata": {
      "image/png": {
       "height": 250,
       "width": 253
      }
     },
     "output_type": "display_data"
    }
   ],
   "source": [
    "%matplotlib inline\n",
    "%config InlineBackend.figure_format = 'retina'\n",
    "\n",
    "import helper\n",
    "import numpy as np\n",
    "\n",
    "# Explore the dataset\n",
    "batch_id = 1\n",
    "sample_id = 15\n",
    "helper.display_stats(cifar10_dataset_folder_path, batch_id, sample_id)"
   ]
  },
  {
   "cell_type": "code",
   "execution_count": 3,
   "metadata": {
    "collapsed": false,
    "deletable": true,
    "editable": true
   },
   "outputs": [
    {
     "name": "stdout",
     "output_type": "stream",
     "text": [
      "\n",
      "Stats of batch 2:\n",
      "Samples: 10000\n",
      "Label Counts: {0: 984, 1: 1007, 2: 1010, 3: 995, 4: 1010, 5: 988, 6: 1008, 7: 1026, 8: 987, 9: 985}\n",
      "First 20 Labels: [1, 6, 6, 8, 8, 3, 4, 6, 0, 6, 0, 3, 6, 6, 5, 4, 8, 3, 2, 6]\n",
      "\n",
      "Example of Image 15:\n",
      "Image - Min Value: 1 Max Value: 225\n",
      "Image - Shape: (32, 32, 3)\n",
      "Label - Label Id: 4 Name: deer\n"
     ]
    },
    {
     "data": {
      "image/png": "[encoded data removed]",
      "text/plain": [
       "<matplotlib.figure.Figure at 0x7fe1bc232588>"
      ]
     },
     "metadata": {
      "image/png": {
       "height": 250,
       "width": 253
      }
     },
     "output_type": "display_data"
    }
   ],
   "source": [
    "batch_id = 2\n",
    "sample_id = 15\n",
    "helper.display_stats(cifar10_dataset_folder_path, batch_id, sample_id)"
   ]
  },
  {
   "cell_type": "markdown",
   "metadata": {
    "deletable": true,
    "editable": true
   },
   "source": [
    "## Implement Preprocess Functions\n",
    "### Normalize\n",
    "In the cell below, implement the `normalize` function to take in image data, `x`, and return it as a normalized Numpy array. The values should be in the range of 0 to 1, inclusive.  The return object should be the same shape as `x`."
   ]
  },
  {
   "cell_type": "code",
   "execution_count": 4,
   "metadata": {
    "collapsed": false,
    "deletable": true,
    "editable": true
   },
   "outputs": [
    {
     "name": "stdout",
     "output_type": "stream",
     "text": [
      "Tests Passed\n"
     ]
    }
   ],
   "source": [
    "def normalize(x):\n",
    "    \"\"\"\n",
    "    Normalize a list of sample image data in the range of 0 to 1\n",
    "    : x: List of image data.  The image shape is (32, 32, 3)\n",
    "    : return: Numpy array of normalize data\n",
    "    \"\"\"\n",
    "    # TODO: Implement Function\n",
    "    \n",
    "    return (x - x.min())/(x.max() - x.min())\n",
    "\n",
    "\n",
    "\"\"\"\n",
    "DON'T MODIFY ANYTHING IN THIS CELL THAT IS BELOW THIS LINE\n",
    "\"\"\"\n",
    "tests.test_normalize(normalize)"
   ]
  },
  {
   "cell_type": "markdown",
   "metadata": {
    "deletable": true,
    "editable": true
   },
   "source": [
    "### One-hot encode\n",
    "Just like the previous code cell, you'll be implementing a function for preprocessing.  This time, you'll implement the `one_hot_encode` function. The input, `x`, are a list of labels.  Implement the function to return the list of labels as One-Hot encoded Numpy array.  The possible values for labels are 0 to 9. The one-hot encoding function should return the same encoding for each value between each call to `one_hot_encode`.  Make sure to save the map of encodings outside the function.\n",
    "\n",
    "Hint: Don't reinvent the wheel."
   ]
  },
  {
   "cell_type": "code",
   "execution_count": 5,
   "metadata": {
    "collapsed": false,
    "deletable": true,
    "editable": true
   },
   "outputs": [
    {
     "name": "stdout",
     "output_type": "stream",
     "text": [
      "Tests Passed\n"
     ]
    }
   ],
   "source": [
    "def one_hot_encode(x):\n",
    "    \"\"\"\n",
    "    One hot encode a list of sample labels. Return a one-hot encoded vector for each label.\n",
    "    : x: List of sample Labels\n",
    "    : return: Numpy array of one-hot encoded labels\n",
    "    \"\"\"\n",
    "    # TODO: Implement Function\n",
    "    return np.eye(10)[x]\n",
    "\n",
    "\n",
    "\"\"\"\n",
    "DON'T MODIFY ANYTHING IN THIS CELL THAT IS BELOW THIS LINE\n",
    "\"\"\"\n",
    "tests.test_one_hot_encode(one_hot_encode)"
   ]
  },
  {
   "cell_type": "markdown",
   "metadata": {
    "deletable": true,
    "editable": true
   },
   "source": [
    "### Randomize Data\n",
    "As you saw from exploring the data above, the order of the samples are randomized.  It doesn't hurt to randomize it again, but you don't need to for this dataset."
   ]
  },
  {
   "cell_type": "markdown",
   "metadata": {
    "deletable": true,
    "editable": true
   },
   "source": [
    "## Preprocess all the data and save it\n",
    "Running the code cell below will preprocess all the CIFAR-10 data and save it to file. The code below also uses 10% of the training data for validation."
   ]
  },
  {
   "cell_type": "code",
   "execution_count": 6,
   "metadata": {
    "collapsed": false,
    "deletable": true,
    "editable": true
   },
   "outputs": [],
   "source": [
    "\"\"\"\n",
    "DON'T MODIFY ANYTHING IN THIS CELL\n",
    "\"\"\"\n",
    "# Preprocess Training, Validation, and Testing Data\n",
    "helper.preprocess_and_save_data(cifar10_dataset_folder_path, normalize, one_hot_encode)"
   ]
  },
  {
   "cell_type": "markdown",
   "metadata": {
    "deletable": true,
    "editable": true
   },
   "source": [
    "# Check Point\n",
    "This is your first checkpoint.  If you ever decide to come back to this notebook or have to restart the notebook, you can start from here.  The preprocessed data has been saved to disk."
   ]
  },
  {
   "cell_type": "code",
   "execution_count": 7,
   "metadata": {
    "collapsed": true,
    "deletable": true,
    "editable": true
   },
   "outputs": [],
   "source": [
    "\"\"\"\n",
    "DON'T MODIFY ANYTHING IN THIS CELL\n",
    "\"\"\"\n",
    "import pickle\n",
    "import problem_unittests as tests\n",
    "import helper\n",
    "\n",
    "# Load the Preprocessed Validation data\n",
    "valid_features, valid_labels = pickle.load(open('preprocess_validation.p', mode='rb'))"
   ]
  },
  {
   "cell_type": "markdown",
   "metadata": {
    "deletable": true,
    "editable": true
   },
   "source": [
    "## Build the network\n",
    "For the neural network, you'll build each layer into a function.  Most of the code you've seen has been outside of functions. To test your code more thoroughly, we require that you put each layer in a function.  This allows us to give you better feedback and test for simple mistakes using our unittests before you submit your project.\n",
    "\n",
    ">**Note:** If you're finding it hard to dedicate enough time for this course each week, we've provided a small shortcut to this part of the project. In the next couple of problems, you'll have the option to use classes from the [TensorFlow Layers](https://www.tensorflow.org/api_docs/python/tf/layers) or [TensorFlow Layers (contrib)](https://www.tensorflow.org/api_guides/python/contrib.layers) packages to build each layer, except the layers you build in the \"Convolutional and Max Pooling Layer\" section.  TF Layers is similar to Keras's and TFLearn's abstraction to layers, so it's easy to pickup.\n",
    "\n",
    ">However, if you would like to get the most out of this course, try to solve all the problems _without_ using anything from the TF Layers packages. You **can** still use classes from other packages that happen to have the same name as ones you find in TF Layers! For example, instead of using the TF Layers version of the `conv2d` class, [tf.layers.conv2d](https://www.tensorflow.org/api_docs/python/tf/layers/conv2d), you would want to use the TF Neural Network version of `conv2d`, [tf.nn.conv2d](https://www.tensorflow.org/api_docs/python/tf/nn/conv2d). \n",
    "\n",
    "Let's begin!\n",
    "\n",
    "### Input\n",
    "The neural network needs to read the image data, one-hot encoded labels, and dropout keep probability. Implement the following functions\n",
    "* Implement `neural_net_image_input`\n",
    " * Return a [TF Placeholder](https://www.tensorflow.org/api_docs/python/tf/placeholder)\n",
    " * Set the shape using `image_shape` with batch size set to `None`.\n",
    " * Name the TensorFlow placeholder \"x\" using the TensorFlow `name` parameter in the [TF Placeholder](https://www.tensorflow.org/api_docs/python/tf/placeholder).\n",
    "* Implement `neural_net_label_input`\n",
    " * Return a [TF Placeholder](https://www.tensorflow.org/api_docs/python/tf/placeholder)\n",
    " * Set the shape using `n_classes` with batch size set to `None`.\n",
    " * Name the TensorFlow placeholder \"y\" using the TensorFlow `name` parameter in the [TF Placeholder](https://www.tensorflow.org/api_docs/python/tf/placeholder).\n",
    "* Implement `neural_net_keep_prob_input`\n",
    " * Return a [TF Placeholder](https://www.tensorflow.org/api_docs/python/tf/placeholder) for dropout keep probability.\n",
    " * Name the TensorFlow placeholder \"keep_prob\" using the TensorFlow `name` parameter in the [TF Placeholder](https://www.tensorflow.org/api_docs/python/tf/placeholder).\n",
    "\n",
    "These names will be used at the end of the project to load your saved model.\n",
    "\n",
    "Note: `None` for shapes in TensorFlow allow for a dynamic size."
   ]
  },
  {
   "cell_type": "code",
   "execution_count": 8,
   "metadata": {
    "collapsed": false,
    "deletable": true,
    "editable": true
   },
   "outputs": [
    {
     "name": "stdout",
     "output_type": "stream",
     "text": [
      "Image Input Tests Passed.\n",
      "Label Input Tests Passed.\n",
      "Keep Prob Tests Passed.\n"
     ]
    }
   ],
   "source": [
    "import tensorflow as tf\n",
    "\n",
    "def neural_net_image_input(image_shape):\n",
    "    \"\"\"\n",
    "    Return a Tensor for a bach of image input\n",
    "    : image_shape: Shape of the images\n",
    "    : return: Tensor for image input.\n",
    "    \"\"\"\n",
    "    # TODO: Implement Function\n",
    "    return tf.placeholder(tf.float32, shape=(None,image_shape[0],image_shape[1],image_shape[2]),name='x')\n",
    "\n",
    "\n",
    "def neural_net_label_input(n_classes):\n",
    "    \"\"\"\n",
    "    Return a Tensor for a batch of label input\n",
    "    : n_classes: Number of classes\n",
    "    : return: Tensor for label input.\n",
    "    \"\"\"\n",
    "    # TODO: Implement Function\n",
    "    return tf.placeholder(tf.float32, shape=(None,n_classes), name='y')\n",
    "\n",
    "\n",
    "def neural_net_keep_prob_input():\n",
    "    \"\"\"\n",
    "    Return a Tensor for keep probability\n",
    "    : return: Tensor for keep probability.\n",
    "    \"\"\"\n",
    "    # TODO: Implement Function\n",
    "    return tf.placeholder(tf.float32, name='keep_prob')\n",
    "\n",
    "\n",
    "\"\"\"\n",
    "DON'T MODIFY ANYTHING IN THIS CELL THAT IS BELOW THIS LINE\n",
    "\"\"\"\n",
    "tf.reset_default_graph()\n",
    "tests.test_nn_image_inputs(neural_net_image_input)\n",
    "tests.test_nn_label_inputs(neural_net_label_input)\n",
    "tests.test_nn_keep_prob_inputs(neural_net_keep_prob_input)"
   ]
  },
  {
   "cell_type": "markdown",
   "metadata": {
    "deletable": true,
    "editable": true
   },
   "source": [
    "### Convolution and Max Pooling Layer\n",
    "Convolution layers have a lot of success with images. For this code cell, you should implement the function `conv2d_maxpool` to apply convolution then max pooling:\n",
    "* Create the weight and bias using `conv_ksize`, `conv_num_outputs` and the shape of `x_tensor`.\n",
    "* Apply a convolution to `x_tensor` using weight and `conv_strides`.\n",
    " * We recommend you use same padding, but you're welcome to use any padding.\n",
    "* Add bias\n",
    "* Add a nonlinear activation to the convolution.\n",
    "* Apply Max Pooling using `pool_ksize` and `pool_strides`.\n",
    " * We recommend you use same padding, but you're welcome to use any padding.\n",
    "\n",
    "**Note:** You **can't** use [TensorFlow Layers](https://www.tensorflow.org/api_docs/python/tf/layers) or [TensorFlow Layers (contrib)](https://www.tensorflow.org/api_guides/python/contrib.layers) for **this** layer, but you can still use TensorFlow's [Neural Network](https://www.tensorflow.org/api_docs/python/tf/nn) package. You may still use the shortcut option for all the **other** layers."
   ]
  },
  {
   "cell_type": "code",
   "execution_count": 55,
   "metadata": {
    "collapsed": false,
    "deletable": true,
    "editable": true
   },
   "outputs": [
    {
     "name": "stdout",
     "output_type": "stream",
     "text": [
      "Tests Passed\n"
     ]
    }
   ],
   "source": [
    "def conv2d_maxpool(x_tensor, conv_num_outputs, conv_ksize, conv_strides, pool_ksize, pool_strides):\n",
    "    \"\"\"\n",
    "    Apply convolution then max pooling to x_tensor\n",
    "    :param x_tensor: TensorFlow Tensor\n",
    "    :param conv_num_outputs: Number of outputs for the convolutional layer\n",
    "    :param conv_ksize: kernal size 2-D Tuple for the convolutional layer\n",
    "    :param conv_strides: Stride 2-D Tuple for convolution\n",
    "    :param pool_ksize: kernal size 2-D Tuple for pool\n",
    "    :param pool_strides: Stride 2-D Tuple for pool\n",
    "    : return: A tensor that represents convolution and max pooling of x_tensor\n",
    "    \"\"\"\n",
    "    # TODO: Implement Function\n",
    "    # Weight and bias\n",
    "    weight = tf.Variable(tf.truncated_normal([\n",
    "        conv_ksize[0], \n",
    "        conv_ksize[1], \n",
    "        x_tensor.get_shape().as_list()[-1], \n",
    "        conv_num_outputs], stddev=0.1))\n",
    "    #bias = tf.Variable(tf.zeros(conv_num_outputs))\n",
    "    bias = tf.Variable(tf.constant(0.05, shape=[conv_num_outputs]))\n",
    "\n",
    "    # Apply Convolution\n",
    "    conv_layer = tf.nn.conv2d(x_tensor, \n",
    "                              weight, \n",
    "                              strides=[1,conv_strides[0],conv_strides[1],1],\n",
    "                              padding='SAME')\n",
    "    # Add bias\n",
    "    conv_layer = tf.nn.bias_add(conv_layer, bias)\n",
    "    # Apply activation function\n",
    "    conv_layer = tf.nn.relu(conv_layer)\n",
    "    \n",
    "    # Apply Max Pooling\n",
    "    conv_layer = tf.nn.max_pool(conv_layer,\n",
    "                                ksize=[1,pool_ksize[0],pool_ksize[1],1],\n",
    "                                strides=[1,pool_strides[0],pool_strides[1],1],\n",
    "                                padding ='SAME')\n",
    "    return conv_layer \n",
    "\n",
    "\n",
    "\"\"\"\n",
    "DON'T MODIFY ANYTHING IN THIS CELL THAT IS BELOW THIS LINE\n",
    "\"\"\"\n",
    "tests.test_con_pool(conv2d_maxpool)"
   ]
  },
  {
   "cell_type": "markdown",
   "metadata": {
    "deletable": true,
    "editable": true
   },
   "source": [
    "### Flatten Layer\n",
    "Implement the `flatten` function to change the dimension of `x_tensor` from a 4-D tensor to a 2-D tensor.  The output should be the shape (*Batch Size*, *Flattened Image Size*). Shortcut option: you can use classes from the [TensorFlow Layers](https://www.tensorflow.org/api_docs/python/tf/layers) or [TensorFlow Layers (contrib)](https://www.tensorflow.org/api_guides/python/contrib.layers) packages for this layer. For more of a challenge, only use other TensorFlow packages."
   ]
  },
  {
   "cell_type": "code",
   "execution_count": 56,
   "metadata": {
    "collapsed": false,
    "deletable": true,
    "editable": true
   },
   "outputs": [
    {
     "name": "stdout",
     "output_type": "stream",
     "text": [
      "Tests Passed\n"
     ]
    }
   ],
   "source": [
    "def flatten(x_tensor):\n",
    "    \"\"\"\n",
    "    Flatten x_tensor to (Batch Size, Flattened Image Size)\n",
    "    : x_tensor: A tensor of size (Batch Size, ...), where ... are the image dimensions.\n",
    "    : return: A tensor of size (Batch Size, Flattened Image Size).\n",
    "    \"\"\"\n",
    "    # TODO: Implement Function\n",
    "    flat_shape = np.prod(x_tensor.get_shape().as_list()[1:])\n",
    "    return tf.reshape(x_tensor,[-1,flat_shape])\n",
    "\n",
    "\n",
    "\"\"\"\n",
    "DON'T MODIFY ANYTHING IN THIS CELL THAT IS BELOW THIS LINE\n",
    "\"\"\"\n",
    "tests.test_flatten(flatten)"
   ]
  },
  {
   "cell_type": "markdown",
   "metadata": {
    "deletable": true,
    "editable": true
   },
   "source": [
    "### Fully-Connected Layer\n",
    "Implement the `fully_conn` function to apply a fully connected layer to `x_tensor` with the shape (*Batch Size*, *num_outputs*). Shortcut option: you can use classes from the [TensorFlow Layers](https://www.tensorflow.org/api_docs/python/tf/layers) or [TensorFlow Layers (contrib)](https://www.tensorflow.org/api_guides/python/contrib.layers) packages for this layer. For more of a challenge, only use other TensorFlow packages."
   ]
  },
  {
   "cell_type": "code",
   "execution_count": 59,
   "metadata": {
    "collapsed": false,
    "deletable": true,
    "editable": true
   },
   "outputs": [
    {
     "name": "stdout",
     "output_type": "stream",
     "text": [
      "Tests Passed\n"
     ]
    }
   ],
   "source": [
    "def fully_conn(x_tensor, num_outputs):\n",
    "    \"\"\"\n",
    "    Apply a fully connected layer to x_tensor using weight and bias\n",
    "    : x_tensor: A 2-D tensor where the first dimension is batch size.\n",
    "    : num_outputs: The number of output that the new tensor should be.\n",
    "    : return: A 2-D tensor where the second dimension is num_outputs.\n",
    "    \"\"\"\n",
    "    # TODO: Implement Function\n",
    "    # Weight and bias\n",
    "    weight = tf.Variable(tf.truncated_normal([\n",
    "        x_tensor.get_shape().as_list()[1],\n",
    "        num_outputs], stddev=0.1))\n",
    "    #bias = tf.Variable(tf.zeros(num_outputs))\n",
    "    bias = tf.Variable(tf.constant(0.05, shape=[num_outputs]))\n",
    "    \n",
    "    # Matrix multiplication input and weight, then add bias\n",
    "    fc_layer = tf.matmul(x_tensor, weight) + bias\n",
    "    # Apply activation function\n",
    "    fc_layer = tf.nn.relu(fc_layer)\n",
    "    \n",
    "    return fc_layer\n",
    "\n",
    "\n",
    "\"\"\"\n",
    "DON'T MODIFY ANYTHING IN THIS CELL THAT IS BELOW THIS LINE\n",
    "\"\"\"\n",
    "tests.test_fully_conn(fully_conn)"
   ]
  },
  {
   "cell_type": "markdown",
   "metadata": {
    "deletable": true,
    "editable": true
   },
   "source": [
    "### Output Layer\n",
    "Implement the `output` function to apply a fully connected layer to `x_tensor` with the shape (*Batch Size*, *num_outputs*). Shortcut option: you can use classes from the [TensorFlow Layers](https://www.tensorflow.org/api_docs/python/tf/layers) or [TensorFlow Layers (contrib)](https://www.tensorflow.org/api_guides/python/contrib.layers) packages for this layer. For more of a challenge, only use other TensorFlow packages.\n",
    "\n",
    "**Note:** Activation, softmax, or cross entropy should **not** be applied to this."
   ]
  },
  {
   "cell_type": "code",
   "execution_count": 60,
   "metadata": {
    "collapsed": false,
    "deletable": true,
    "editable": true
   },
   "outputs": [
    {
     "name": "stdout",
     "output_type": "stream",
     "text": [
      "Tests Passed\n"
     ]
    }
   ],
   "source": [
    "def output(x_tensor, num_outputs):\n",
    "    \"\"\"\n",
    "    Apply a output layer to x_tensor using weight and bias\n",
    "    : x_tensor: A 2-D tensor where the first dimension is batch size.\n",
    "    : num_outputs: The number of output that the new tensor should be.\n",
    "    : return: A 2-D tensor where the second dimension is num_outputs.\n",
    "    \"\"\"\n",
    "    # TODO: Implement Function\n",
    "    # Weight and bias\n",
    "    weight = tf.Variable(tf.truncated_normal([\n",
    "        x_tensor.get_shape().as_list()[1],\n",
    "        num_outputs], stddev=0.1))\n",
    "    #bias = tf.Variable(tf.zeros(num_outputs))\n",
    "    bias = tf.Variable(tf.constant(0.05,shape=[num_outputs]))\n",
    "    \n",
    "    # Matrix multiplication input and weight, then add bias\n",
    "    output_layer = tf.matmul(x_tensor, weight) + bias\n",
    "    \n",
    "    return output_layer\n",
    "\n",
    "\n",
    "\"\"\"\n",
    "DON'T MODIFY ANYTHING IN THIS CELL THAT IS BELOW THIS LINE\n",
    "\"\"\"\n",
    "tests.test_output(output)"
   ]
  },
  {
   "cell_type": "markdown",
   "metadata": {
    "deletable": true,
    "editable": true
   },
   "source": [
    "### Create Convolutional Model\n",
    "Implement the function `conv_net` to create a convolutional neural network model. The function takes in a batch of images, `x`, and outputs logits.  Use the layers you created above to create this model:\n",
    "\n",
    "* Apply 1, 2, or 3 Convolution and Max Pool layers\n",
    "* Apply a Flatten Layer\n",
    "* Apply 1, 2, or 3 Fully Connected Layers\n",
    "* Apply an Output Layer\n",
    "* Return the output\n",
    "* Apply [TensorFlow's Dropout](https://www.tensorflow.org/api_docs/python/tf/nn/dropout) to one or more layers in the model using `keep_prob`. "
   ]
  },
  {
   "cell_type": "code",
   "execution_count": 78,
   "metadata": {
    "collapsed": false,
    "deletable": true,
    "editable": true
   },
   "outputs": [
    {
     "name": "stdout",
     "output_type": "stream",
     "text": [
      "Neural Network Built!\n"
     ]
    }
   ],
   "source": [
    "def conv_net(x, keep_prob):\n",
    "    \"\"\"\n",
    "    Create a convolutional neural network model\n",
    "    : x: Placeholder tensor that holds image data.\n",
    "    : keep_prob: Placeholder tensor that hold dropout keep probability.\n",
    "    : return: Tensor that represents logits\n",
    "    \"\"\"\n",
    "    # TODO: Apply 1, 2, or 3 Convolution and Max Pool layers\n",
    "    #    Play around with different number of outputs, kernel size and stride\n",
    "    # Function Definition from Above:\n",
    "    #    conv2d_maxpool(x_tensor, conv_num_outputs, conv_ksize, conv_strides, pool_ksize, pool_strides)\n",
    "    conv_layer1 = conv2d_maxpool(x, 32, (3,3), (1,1), (2,2), (2,2))\n",
    "    conv_layer2 = conv2d_maxpool(conv_layer1, 32, (3,3), (1,1), (2,2), (2,2))\n",
    "    \n",
    "\n",
    "    # TODO: Apply a Flatten Layer\n",
    "    # Function Definition from Above:\n",
    "    #   flatten(x_tensor)\n",
    "    flat_layer = flatten(conv_layer2)\n",
    "    \n",
    "\n",
    "    # TODO: Apply 1, 2, or 3 Fully Connected Layers\n",
    "    #    Play around with different number of outputs\n",
    "    # Function Definition from Above:\n",
    "    #   fully_conn(x_tensor, num_outputs)\n",
    "    fully_conn_layer1 = fully_conn(flat_layer, 512)\n",
    "    fully_conn_layer1 = tf.nn.dropout(fully_conn_layer1, keep_prob)\n",
    "    \n",
    "    ##------ adding following layer seems screwing the accuracy ----------------------\n",
    "    #fully_conn_layer2 = fully_conn(fully_conn_layer1, 128)\n",
    "    #fully_conn_layer2 = tf.nn.dropout(fully_conn_layer2, keep_prob)\n",
    "    \n",
    "    \n",
    "    # TODO: Apply an Output Layer\n",
    "    #    Set this to the number of classes\n",
    "    # Function Definition from Above:\n",
    "    #   output(x_tensor, num_outputs)\n",
    "    \n",
    "    \n",
    "    # TODO: return output\n",
    "    return output(fully_conn_layer1, 10)\n",
    "\n",
    "\n",
    "\"\"\"\n",
    "DON'T MODIFY ANYTHING IN THIS CELL THAT IS BELOW THIS LINE\n",
    "\"\"\"\n",
    "\n",
    "##############################\n",
    "## Build the Neural Network ##\n",
    "##############################\n",
    "\n",
    "# Remove previous weights, bias, inputs, etc..\n",
    "tf.reset_default_graph()\n",
    "\n",
    "# Inputs\n",
    "x = neural_net_image_input((32, 32, 3))\n",
    "y = neural_net_label_input(10)\n",
    "keep_prob = neural_net_keep_prob_input()\n",
    "\n",
    "# Model\n",
    "logits = conv_net(x, keep_prob)\n",
    "\n",
    "# Name logits Tensor, so that is can be loaded from disk after training\n",
    "logits = tf.identity(logits, name='logits')\n",
    "\n",
    "# Loss and Optimizer\n",
    "cost = tf.reduce_mean(tf.nn.softmax_cross_entropy_with_logits(logits=logits, labels=y))\n",
    "optimizer = tf.train.AdamOptimizer().minimize(cost)\n",
    "\n",
    "# Accuracy\n",
    "correct_pred = tf.equal(tf.argmax(logits, 1), tf.argmax(y, 1))\n",
    "accuracy = tf.reduce_mean(tf.cast(correct_pred, tf.float32), name='accuracy')\n",
    "\n",
    "tests.test_conv_net(conv_net)"
   ]
  },
  {
   "cell_type": "markdown",
   "metadata": {
    "deletable": true,
    "editable": true
   },
   "source": [
    "## Train the Neural Network\n",
    "### Single Optimization\n",
    "Implement the function `train_neural_network` to do a single optimization.  The optimization should use `optimizer` to optimize in `session` with a `feed_dict` of the following:\n",
    "* `x` for image input\n",
    "* `y` for labels\n",
    "* `keep_prob` for keep probability for dropout\n",
    "\n",
    "This function will be called for each batch, so `tf.global_variables_initializer()` has already been called.\n",
    "\n",
    "Note: Nothing needs to be returned. This function is only optimizing the neural network."
   ]
  },
  {
   "cell_type": "code",
   "execution_count": 67,
   "metadata": {
    "collapsed": false,
    "deletable": true,
    "editable": true
   },
   "outputs": [
    {
     "name": "stdout",
     "output_type": "stream",
     "text": [
      "Tests Passed\n"
     ]
    }
   ],
   "source": [
    "def train_neural_network(session, optimizer, keep_probability, feature_batch, label_batch):\n",
    "    \"\"\"\n",
    "    Optimize the session on a batch of images and labels\n",
    "    : session: Current TensorFlow session\n",
    "    : optimizer: TensorFlow optimizer function\n",
    "    : keep_probability: keep probability\n",
    "    : feature_batch: Batch of Numpy image data\n",
    "    : label_batch: Batch of Numpy label data\n",
    "    \"\"\"\n",
    "    # TODO: Implement Function\n",
    "    session.run(optimizer, feed_dict={x:feature_batch,\n",
    "                                     y:label_batch,\n",
    "                                     keep_prob: keep_probability})\n",
    "\n",
    "\n",
    "\"\"\"\n",
    "DON'T MODIFY ANYTHING IN THIS CELL THAT IS BELOW THIS LINE\n",
    "\"\"\"\n",
    "tests.test_train_nn(train_neural_network)"
   ]
  },
  {
   "cell_type": "markdown",
   "metadata": {
    "deletable": true,
    "editable": true
   },
   "source": [
    "### Show Stats\n",
    "Implement the function `print_stats` to print loss and validation accuracy.  Use the global variables `valid_features` and `valid_labels` to calculate validation accuracy.  Use a keep probability of `1.0` to calculate the loss and validation accuracy."
   ]
  },
  {
   "cell_type": "code",
   "execution_count": 68,
   "metadata": {
    "collapsed": false,
    "deletable": true,
    "editable": true
   },
   "outputs": [],
   "source": [
    "def print_stats(session, feature_batch, label_batch, cost, accuracy):\n",
    "    \"\"\"\n",
    "    Print information about loss and validation accuracy\n",
    "    : session: Current TensorFlow session\n",
    "    : feature_batch: Batch of Numpy image data\n",
    "    : label_batch: Batch of Numpy label data\n",
    "    : cost: TensorFlow cost function\n",
    "    : accuracy: TensorFlow accuracy function\n",
    "    \"\"\"\n",
    "    # TODO: Implement Function\n",
    "    loss = session.run(cost, feed_dict={x: feature_batch, y: label_batch, keep_prob: 1.0})\n",
    "    validation_accuracy = session.run(accuracy, feed_dict={x: valid_features, y: valid_labels, keep_prob: 1.0})\n",
    "    print('Loss: {} Validation Accuracy: {}'.format(loss, validation_accuracy))"
   ]
  },
  {
   "cell_type": "markdown",
   "metadata": {
    "deletable": true,
    "editable": true
   },
   "source": [
    "### Hyperparameters\n",
    "Tune the following parameters:\n",
    "* Set `epochs` to the number of iterations until the network stops learning or start overfitting\n",
    "* Set `batch_size` to the highest number that your machine has memory for.  Most people set them to common sizes of memory:\n",
    " * 64\n",
    " * 128\n",
    " * 256\n",
    " * ...\n",
    "* Set `keep_probability` to the probability of keeping a node using dropout"
   ]
  },
  {
   "cell_type": "code",
   "execution_count": 64,
   "metadata": {
    "collapsed": true,
    "deletable": true,
    "editable": true
   },
   "outputs": [],
   "source": [
    "# TODO: Tune Parameters\n",
    "epochs = 20\n",
    "batch_size = 128\n",
    "keep_probability = 1.0 # Lower values are not good"
   ]
  },
  {
   "cell_type": "markdown",
   "metadata": {
    "deletable": true,
    "editable": true
   },
   "source": [
    "### Train on a Single CIFAR-10 Batch\n",
    "Instead of training the neural network on all the CIFAR-10 batches of data, let's use a single batch. This should save time while you iterate on the model to get a better accuracy.  Once the final validation accuracy is 50% or greater, run the model on all the data in the next section."
   ]
  },
  {
   "cell_type": "code",
   "execution_count": 79,
   "metadata": {
    "collapsed": false,
    "deletable": true,
    "editable": true
   },
   "outputs": [
    {
     "name": "stdout",
     "output_type": "stream",
     "text": [
      "Checking the Training on a Single Batch...\n",
      "Epoch  1, CIFAR-10 Batch 1:  Loss: 1.9803470373153687 Validation Accuracy: 0.38979998230934143\n",
      "Epoch  2, CIFAR-10 Batch 1:  Loss: 1.5187809467315674 Validation Accuracy: 0.4691999554634094\n",
      "Epoch  3, CIFAR-10 Batch 1:  Loss: 1.1720764636993408 Validation Accuracy: 0.5047999620437622\n",
      "Epoch  4, CIFAR-10 Batch 1:  Loss: 0.9901756644248962 Validation Accuracy: 0.5163999199867249\n",
      "Epoch  5, CIFAR-10 Batch 1:  Loss: 0.849036455154419 Validation Accuracy: 0.5309999585151672\n",
      "Epoch  6, CIFAR-10 Batch 1:  Loss: 0.678106427192688 Validation Accuracy: 0.5407999753952026\n",
      "Epoch  7, CIFAR-10 Batch 1:  Loss: 0.5339983701705933 Validation Accuracy: 0.5275999903678894\n",
      "Epoch  8, CIFAR-10 Batch 1:  Loss: 0.4152931272983551 Validation Accuracy: 0.5381999611854553\n",
      "Epoch  9, CIFAR-10 Batch 1:  Loss: 0.2969307005405426 Validation Accuracy: 0.5521999001502991\n",
      "Epoch 10, CIFAR-10 Batch 1:  Loss: 0.22917377948760986 Validation Accuracy: 0.5367999076843262\n",
      "Epoch 11, CIFAR-10 Batch 1:  Loss: 0.2590320110321045 Validation Accuracy: 0.5255999565124512\n",
      "Epoch 12, CIFAR-10 Batch 1:  Loss: 0.1895587146282196 Validation Accuracy: 0.5285999774932861\n",
      "Epoch 13, CIFAR-10 Batch 1:  Loss: 0.1575370877981186 Validation Accuracy: 0.5477999448776245\n",
      "Epoch 14, CIFAR-10 Batch 1:  Loss: 0.12974554300308228 Validation Accuracy: 0.5493999123573303\n",
      "Epoch 15, CIFAR-10 Batch 1:  Loss: 0.07425079494714737 Validation Accuracy: 0.5577999353408813\n",
      "Epoch 16, CIFAR-10 Batch 1:  Loss: 0.07983388006687164 Validation Accuracy: 0.5459999442100525\n",
      "Epoch 17, CIFAR-10 Batch 1:  Loss: 0.06225436180830002 Validation Accuracy: 0.5409998893737793\n",
      "Epoch 18, CIFAR-10 Batch 1:  Loss: 0.05303804576396942 Validation Accuracy: 0.5461999177932739\n",
      "Epoch 19, CIFAR-10 Batch 1:  Loss: 0.07769951224327087 Validation Accuracy: 0.5339999794960022\n",
      "Epoch 20, CIFAR-10 Batch 1:  Loss: 0.02844812721014023 Validation Accuracy: 0.5359999537467957\n"
     ]
    }
   ],
   "source": [
    "\"\"\"\n",
    "DON'T MODIFY ANYTHING IN THIS CELL\n",
    "\"\"\"\n",
    "print('Checking the Training on a Single Batch...')\n",
    "with tf.Session() as sess:\n",
    "    # Initializing the variables\n",
    "    sess.run(tf.global_variables_initializer())\n",
    "    \n",
    "    # Training cycle\n",
    "    for epoch in range(epochs):\n",
    "        batch_i = 1\n",
    "        for batch_features, batch_labels in helper.load_preprocess_training_batch(batch_i, batch_size):\n",
    "            train_neural_network(sess, optimizer, keep_probability, batch_features, batch_labels)\n",
    "        print('Epoch {:>2}, CIFAR-10 Batch {}:  '.format(epoch + 1, batch_i), end='')\n",
    "        print_stats(sess, batch_features, batch_labels, cost, accuracy)"
   ]
  },
  {
   "cell_type": "markdown",
   "metadata": {
    "deletable": true,
    "editable": true
   },
   "source": [
    "### Fully Train the Model\n",
    "Now that you got a good accuracy with a single CIFAR-10 batch, try it with all five batches."
   ]
  },
  {
   "cell_type": "code",
   "execution_count": 80,
   "metadata": {
    "collapsed": false,
    "deletable": true,
    "editable": true,
    "scrolled": true
   },
   "outputs": [
    {
     "name": "stdout",
     "output_type": "stream",
     "text": [
      "Training...\n",
      "Epoch  1, CIFAR-10 Batch 1:  Loss: 1.9526853561401367 Validation Accuracy: 0.36419999599456787\n",
      "Epoch  1, CIFAR-10 Batch 2:  Loss: 1.3970322608947754 Validation Accuracy: 0.45959994196891785\n",
      "Epoch  1, CIFAR-10 Batch 3:  Loss: 1.2731233835220337 Validation Accuracy: 0.5109999775886536\n",
      "Epoch  1, CIFAR-10 Batch 4:  Loss: 1.237255573272705 Validation Accuracy: 0.5103999376296997\n",
      "Epoch  1, CIFAR-10 Batch 5:  Loss: 1.3115477561950684 Validation Accuracy: 0.556399941444397\n",
      "Epoch  2, CIFAR-10 Batch 1:  Loss: 1.3900015354156494 Validation Accuracy: 0.5709999203681946\n",
      "Epoch  2, CIFAR-10 Batch 2:  Loss: 1.0278080701828003 Validation Accuracy: 0.5497998595237732\n",
      "Epoch  2, CIFAR-10 Batch 3:  Loss: 0.8631232976913452 Validation Accuracy: 0.5837999582290649\n",
      "Epoch  2, CIFAR-10 Batch 4:  Loss: 0.885884165763855 Validation Accuracy: 0.5997998714447021\n",
      "Epoch  2, CIFAR-10 Batch 5:  Loss: 0.9809541702270508 Validation Accuracy: 0.6155999302864075\n",
      "Epoch  3, CIFAR-10 Batch 1:  Loss: 0.9185137748718262 Validation Accuracy: 0.608799934387207\n",
      "Epoch  3, CIFAR-10 Batch 2:  Loss: 0.690650463104248 Validation Accuracy: 0.6115999817848206\n",
      "Epoch  3, CIFAR-10 Batch 3:  Loss: 0.6139702796936035 Validation Accuracy: 0.6301999092102051\n",
      "Epoch  3, CIFAR-10 Batch 4:  Loss: 0.6243798732757568 Validation Accuracy: 0.6347998976707458\n",
      "Epoch  3, CIFAR-10 Batch 5:  Loss: 0.7033015489578247 Validation Accuracy: 0.63239985704422\n",
      "Epoch  4, CIFAR-10 Batch 1:  Loss: 0.6816745400428772 Validation Accuracy: 0.6367998719215393\n",
      "Epoch  4, CIFAR-10 Batch 2:  Loss: 0.4824065566062927 Validation Accuracy: 0.6447998881340027\n",
      "Epoch  4, CIFAR-10 Batch 3:  Loss: 0.4315401613712311 Validation Accuracy: 0.6457999348640442\n",
      "Epoch  4, CIFAR-10 Batch 4:  Loss: 0.4386192560195923 Validation Accuracy: 0.6607999205589294\n",
      "Epoch  4, CIFAR-10 Batch 5:  Loss: 0.4916902780532837 Validation Accuracy: 0.6415998935699463\n",
      "Epoch  5, CIFAR-10 Batch 1:  Loss: 0.535920262336731 Validation Accuracy: 0.6541998982429504\n",
      "Epoch  5, CIFAR-10 Batch 2:  Loss: 0.359458863735199 Validation Accuracy: 0.6587998867034912\n",
      "Epoch  5, CIFAR-10 Batch 3:  Loss: 0.3068128824234009 Validation Accuracy: 0.6481999158859253\n",
      "Epoch  5, CIFAR-10 Batch 4:  Loss: 0.3185877501964569 Validation Accuracy: 0.6647999286651611\n",
      "Epoch  5, CIFAR-10 Batch 5:  Loss: 0.31963980197906494 Validation Accuracy: 0.6513999104499817\n",
      "Epoch  6, CIFAR-10 Batch 1:  Loss: 0.3823908269405365 Validation Accuracy: 0.6613998413085938\n",
      "Epoch  6, CIFAR-10 Batch 2:  Loss: 0.230575293302536 Validation Accuracy: 0.6489999294281006\n",
      "Epoch  6, CIFAR-10 Batch 3:  Loss: 0.23422560095787048 Validation Accuracy: 0.6445999145507812\n",
      "Epoch  6, CIFAR-10 Batch 4:  Loss: 0.21495464444160461 Validation Accuracy: 0.6647998690605164\n",
      "Epoch  6, CIFAR-10 Batch 5:  Loss: 0.20893296599388123 Validation Accuracy: 0.6571998596191406\n",
      "Epoch  7, CIFAR-10 Batch 1:  Loss: 0.2577008903026581 Validation Accuracy: 0.6669999361038208\n",
      "Epoch  7, CIFAR-10 Batch 2:  Loss: 0.14704711735248566 Validation Accuracy: 0.6427998542785645\n",
      "Epoch  7, CIFAR-10 Batch 3:  Loss: 0.14624431729316711 Validation Accuracy: 0.6633998155593872\n",
      "Epoch  7, CIFAR-10 Batch 4:  Loss: 0.16699272394180298 Validation Accuracy: 0.6429998874664307\n",
      "Epoch  7, CIFAR-10 Batch 5:  Loss: 0.15706270933151245 Validation Accuracy: 0.6547998785972595\n",
      "Epoch  8, CIFAR-10 Batch 1:  Loss: 0.17804861068725586 Validation Accuracy: 0.6639999151229858\n",
      "Epoch  8, CIFAR-10 Batch 2:  Loss: 0.07985140383243561 Validation Accuracy: 0.6551998853683472\n",
      "Epoch  8, CIFAR-10 Batch 3:  Loss: 0.10549212992191315 Validation Accuracy: 0.66159987449646\n",
      "Epoch  8, CIFAR-10 Batch 4:  Loss: 0.14254935085773468 Validation Accuracy: 0.6341999173164368\n",
      "Epoch  8, CIFAR-10 Batch 5:  Loss: 0.11087309569120407 Validation Accuracy: 0.6577998399734497\n",
      "Epoch  9, CIFAR-10 Batch 1:  Loss: 0.11992932856082916 Validation Accuracy: 0.6609998345375061\n",
      "Epoch  9, CIFAR-10 Batch 2:  Loss: 0.0578903928399086 Validation Accuracy: 0.6459999084472656\n",
      "Epoch  9, CIFAR-10 Batch 3:  Loss: 0.0725431814789772 Validation Accuracy: 0.6495999097824097\n",
      "Epoch  9, CIFAR-10 Batch 4:  Loss: 0.09585355967283249 Validation Accuracy: 0.6495998501777649\n",
      "Epoch  9, CIFAR-10 Batch 5:  Loss: 0.07647158205509186 Validation Accuracy: 0.6609998941421509\n",
      "Epoch 10, CIFAR-10 Batch 1:  Loss: 0.09868255257606506 Validation Accuracy: 0.6477998495101929\n",
      "Epoch 10, CIFAR-10 Batch 2:  Loss: 0.063515804708004 Validation Accuracy: 0.6423999071121216\n",
      "Epoch 10, CIFAR-10 Batch 3:  Loss: 0.07716907560825348 Validation Accuracy: 0.6367999315261841\n",
      "Epoch 10, CIFAR-10 Batch 4:  Loss: 0.09886634349822998 Validation Accuracy: 0.6485998630523682\n",
      "Epoch 10, CIFAR-10 Batch 5:  Loss: 0.06025835499167442 Validation Accuracy: 0.6591998934745789\n",
      "Epoch 11, CIFAR-10 Batch 1:  Loss: 0.08126834034919739 Validation Accuracy: 0.6605998873710632\n",
      "Epoch 11, CIFAR-10 Batch 2:  Loss: 0.05565633252263069 Validation Accuracy: 0.6511999368667603\n",
      "Epoch 11, CIFAR-10 Batch 3:  Loss: 0.037502825260162354 Validation Accuracy: 0.6441999077796936\n",
      "Epoch 11, CIFAR-10 Batch 4:  Loss: 0.06686454266309738 Validation Accuracy: 0.6533998847007751\n",
      "Epoch 11, CIFAR-10 Batch 5:  Loss: 0.07552197575569153 Validation Accuracy: 0.6425999402999878\n",
      "Epoch 12, CIFAR-10 Batch 1:  Loss: 0.03214799612760544 Validation Accuracy: 0.6583998799324036\n",
      "Epoch 12, CIFAR-10 Batch 2:  Loss: 0.06269333511590958 Validation Accuracy: 0.6505999565124512\n",
      "Epoch 12, CIFAR-10 Batch 3:  Loss: 0.02335820347070694 Validation Accuracy: 0.643799901008606\n",
      "Epoch 12, CIFAR-10 Batch 4:  Loss: 0.03695552051067352 Validation Accuracy: 0.672999918460846\n",
      "Epoch 12, CIFAR-10 Batch 5:  Loss: 0.04138563200831413 Validation Accuracy: 0.6457998752593994\n",
      "Epoch 13, CIFAR-10 Batch 1:  Loss: 0.03153316676616669 Validation Accuracy: 0.6605998873710632\n",
      "Epoch 13, CIFAR-10 Batch 2:  Loss: 0.02814469113945961 Validation Accuracy: 0.6439998745918274\n",
      "Epoch 13, CIFAR-10 Batch 3:  Loss: 0.034880638122558594 Validation Accuracy: 0.6143999099731445\n",
      "Epoch 13, CIFAR-10 Batch 4:  Loss: 0.02842559665441513 Validation Accuracy: 0.6555998921394348\n",
      "Epoch 13, CIFAR-10 Batch 5:  Loss: 0.032337505370378494 Validation Accuracy: 0.6553999185562134\n",
      "Epoch 14, CIFAR-10 Batch 1:  Loss: 0.0370587520301342 Validation Accuracy: 0.6533998250961304\n",
      "Epoch 14, CIFAR-10 Batch 2:  Loss: 0.022436074912548065 Validation Accuracy: 0.6495999097824097\n",
      "Epoch 14, CIFAR-10 Batch 3:  Loss: 0.015382163226604462 Validation Accuracy: 0.6323999166488647\n",
      "Epoch 14, CIFAR-10 Batch 4:  Loss: 0.03107323683798313 Validation Accuracy: 0.6529998779296875\n",
      "Epoch 14, CIFAR-10 Batch 5:  Loss: 0.011140396818518639 Validation Accuracy: 0.6653998494148254\n",
      "Epoch 15, CIFAR-10 Batch 1:  Loss: 0.020697398111224174 Validation Accuracy: 0.6641998887062073\n",
      "Epoch 15, CIFAR-10 Batch 2:  Loss: 0.007470703683793545 Validation Accuracy: 0.6569998264312744\n",
      "Epoch 15, CIFAR-10 Batch 3:  Loss: 0.014192655682563782 Validation Accuracy: 0.6393998861312866\n",
      "Epoch 15, CIFAR-10 Batch 4:  Loss: 0.02737576887011528 Validation Accuracy: 0.6517998576164246\n",
      "Epoch 15, CIFAR-10 Batch 5:  Loss: 0.01188025064766407 Validation Accuracy: 0.6535998582839966\n",
      "Epoch 16, CIFAR-10 Batch 1:  Loss: 0.012676142156124115 Validation Accuracy: 0.6631999015808105\n",
      "Epoch 16, CIFAR-10 Batch 2:  Loss: 0.0046567474491894245 Validation Accuracy: 0.6409999132156372\n",
      "Epoch 16, CIFAR-10 Batch 3:  Loss: 0.02114640176296234 Validation Accuracy: 0.6357999444007874\n",
      "Epoch 16, CIFAR-10 Batch 4:  Loss: 0.008342195302248001 Validation Accuracy: 0.6451998949050903\n",
      "Epoch 16, CIFAR-10 Batch 5:  Loss: 0.010265723802149296 Validation Accuracy: 0.6571999192237854\n",
      "Epoch 17, CIFAR-10 Batch 1:  Loss: 0.014804163947701454 Validation Accuracy: 0.6611999273300171\n",
      "Epoch 17, CIFAR-10 Batch 2:  Loss: 0.007836932316422462 Validation Accuracy: 0.6241999268531799\n",
      "Epoch 17, CIFAR-10 Batch 3:  Loss: 0.007813562639057636 Validation Accuracy: 0.6607998609542847\n",
      "Epoch 17, CIFAR-10 Batch 4:  Loss: 0.006036898586899042 Validation Accuracy: 0.6647999286651611\n",
      "Epoch 17, CIFAR-10 Batch 5:  Loss: 0.0017477901419624686 Validation Accuracy: 0.6681998372077942\n",
      "Epoch 18, CIFAR-10 Batch 1:  Loss: 0.0062275296077132225 Validation Accuracy: 0.6613999009132385\n",
      "Epoch 18, CIFAR-10 Batch 2:  Loss: 0.0036398645024746656 Validation Accuracy: 0.6349998712539673\n",
      "Epoch 18, CIFAR-10 Batch 3:  Loss: 0.0098293237388134 Validation Accuracy: 0.6471998691558838\n",
      "Epoch 18, CIFAR-10 Batch 4:  Loss: 0.008695625700056553 Validation Accuracy: 0.6599998474121094\n",
      "Epoch 18, CIFAR-10 Batch 5:  Loss: 0.005697331391274929 Validation Accuracy: 0.6677998304367065\n",
      "Epoch 19, CIFAR-10 Batch 1:  Loss: 0.005062911193817854 Validation Accuracy: 0.6507998704910278\n",
      "Epoch 19, CIFAR-10 Batch 2:  Loss: 0.0035826063249260187 Validation Accuracy: 0.6403999328613281\n",
      "Epoch 19, CIFAR-10 Batch 3:  Loss: 0.0038230062928050756 Validation Accuracy: 0.65559983253479\n",
      "Epoch 19, CIFAR-10 Batch 4:  Loss: 0.0030884286388754845 Validation Accuracy: 0.6501999497413635\n",
      "Epoch 19, CIFAR-10 Batch 5:  Loss: 0.002314099343493581 Validation Accuracy: 0.6701998710632324\n",
      "Epoch 20, CIFAR-10 Batch 1:  Loss: 0.0058305151760578156 Validation Accuracy: 0.6445998549461365\n",
      "Epoch 20, CIFAR-10 Batch 2:  Loss: 0.008701812475919724 Validation Accuracy: 0.639799952507019\n",
      "Epoch 20, CIFAR-10 Batch 3:  Loss: 0.0027368832379579544 Validation Accuracy: 0.6487998962402344\n",
      "Epoch 20, CIFAR-10 Batch 4:  Loss: 0.0069582839496433735 Validation Accuracy: 0.6565998792648315\n",
      "Epoch 20, CIFAR-10 Batch 5:  Loss: 0.003528233850374818 Validation Accuracy: 0.6535998582839966\n"
     ]
    }
   ],
   "source": [
    "\"\"\"\n",
    "DON'T MODIFY ANYTHING IN THIS CELL\n",
    "\"\"\"\n",
    "save_model_path = './image_classification'\n",
    "\n",
    "print('Training...')\n",
    "with tf.Session() as sess:\n",
    "    # Initializing the variables\n",
    "    sess.run(tf.global_variables_initializer())\n",
    "    \n",
    "    # Training cycle\n",
    "    for epoch in range(epochs):\n",
    "        # Loop over all batches\n",
    "        n_batches = 5\n",
    "        for batch_i in range(1, n_batches + 1):\n",
    "            for batch_features, batch_labels in helper.load_preprocess_training_batch(batch_i, batch_size):\n",
    "                train_neural_network(sess, optimizer, keep_probability, batch_features, batch_labels)\n",
    "            print('Epoch {:>2}, CIFAR-10 Batch {}:  '.format(epoch + 1, batch_i), end='')\n",
    "            print_stats(sess, batch_features, batch_labels, cost, accuracy)\n",
    "            \n",
    "    # Save Model\n",
    "    saver = tf.train.Saver()\n",
    "    save_path = saver.save(sess, save_model_path)"
   ]
  },
  {
   "cell_type": "markdown",
   "metadata": {
    "deletable": true,
    "editable": true
   },
   "source": [
    "# Checkpoint\n",
    "The model has been saved to disk.\n",
    "## Test Model\n",
    "Test your model against the test dataset.  This will be your final accuracy. You should have an accuracy greater than 50%. If you don't, keep tweaking the model architecture and parameters."
   ]
  },
  {
   "cell_type": "code",
   "execution_count": 81,
   "metadata": {
    "collapsed": false,
    "deletable": true,
    "editable": true
   },
   "outputs": [
    {
     "name": "stdout",
     "output_type": "stream",
     "text": [
      "Testing Accuracy: 0.6631724683544303\n",
      "\n"
     ]
    },
    {
     "data": {
      "image/png": "[encoded data removed]",
      "text/plain": [
       "<matplotlib.figure.Figure at 0x7fe1c78fcef0>"
      ]
     },
     "metadata": {
      "image/png": {
       "height": 319,
       "width": 355
      }
     },
     "output_type": "display_data"
    }
   ],
   "source": [
    "\"\"\"\n",
    "DON'T MODIFY ANYTHING IN THIS CELL\n",
    "\"\"\"\n",
    "%matplotlib inline\n",
    "%config InlineBackend.figure_format = 'retina'\n",
    "\n",
    "import tensorflow as tf\n",
    "import pickle\n",
    "import helper\n",
    "import random\n",
    "\n",
    "# Set batch size if not already set\n",
    "try:\n",
    "    if batch_size:\n",
    "        pass\n",
    "except NameError:\n",
    "    batch_size = 64\n",
    "\n",
    "save_model_path = './image_classification'\n",
    "n_samples = 4\n",
    "top_n_predictions = 3\n",
    "\n",
    "def test_model():\n",
    "    \"\"\"\n",
    "    Test the saved model against the test dataset\n",
    "    \"\"\"\n",
    "\n",
    "    test_features, test_labels = pickle.load(open('preprocess_training.p', mode='rb'))\n",
    "    loaded_graph = tf.Graph()\n",
    "\n",
    "    with tf.Session(graph=loaded_graph) as sess:\n",
    "        # Load model\n",
    "        loader = tf.train.import_meta_graph(save_model_path + '.meta')\n",
    "        loader.restore(sess, save_model_path)\n",
    "\n",
    "        # Get Tensors from loaded model\n",
    "        loaded_x = loaded_graph.get_tensor_by_name('x:0')\n",
    "        loaded_y = loaded_graph.get_tensor_by_name('y:0')\n",
    "        loaded_keep_prob = loaded_graph.get_tensor_by_name('keep_prob:0')\n",
    "        loaded_logits = loaded_graph.get_tensor_by_name('logits:0')\n",
    "        loaded_acc = loaded_graph.get_tensor_by_name('accuracy:0')\n",
    "        \n",
    "        # Get accuracy in batches for memory limitations\n",
    "        test_batch_acc_total = 0\n",
    "        test_batch_count = 0\n",
    "        \n",
    "        for train_feature_batch, train_label_batch in helper.batch_features_labels(test_features, test_labels, batch_size):\n",
    "            test_batch_acc_total += sess.run(\n",
    "                loaded_acc,\n",
    "                feed_dict={loaded_x: train_feature_batch, loaded_y: train_label_batch, loaded_keep_prob: 1.0})\n",
    "            test_batch_count += 1\n",
    "\n",
    "        print('Testing Accuracy: {}\\n'.format(test_batch_acc_total/test_batch_count))\n",
    "\n",
    "        # Print Random Samples\n",
    "        random_test_features, random_test_labels = tuple(zip(*random.sample(list(zip(test_features, test_labels)), n_samples)))\n",
    "        random_test_predictions = sess.run(\n",
    "            tf.nn.top_k(tf.nn.softmax(loaded_logits), top_n_predictions),\n",
    "            feed_dict={loaded_x: random_test_features, loaded_y: random_test_labels, loaded_keep_prob: 1.0})\n",
    "        helper.display_image_predictions(random_test_features, random_test_labels, random_test_predictions)\n",
    "\n",
    "\n",
    "test_model()"
   ]
  },
  {
   "cell_type": "markdown",
   "metadata": {
    "deletable": true,
    "editable": true
   },
   "source": [
    "## Why 50-70% Accuracy?\n",
    "You might be wondering why you can't get an accuracy any higher. First things first, 50% isn't bad for a simple CNN.  Pure guessing would get you 10% accuracy. However, you might notice people are getting scores [well above 70%](http://rodrigob.github.io/are_we_there_yet/build/classification_datasets_results.html#43494641522d3130).  That's because we haven't taught you all there is to know about neural networks. We still need to cover a few more techniques.\n",
    "## Submitting This Project\n",
    "When submitting this project, make sure to run all the cells before saving the notebook.  Save the notebook file as \"dlnd_image_classification.ipynb\" and save it as a HTML file under \"File\" -> \"Download as\".  Include the \"helper.py\" and \"problem_unittests.py\" files in your submission."
   ]
  }
 ],
 "metadata": {
  "kernelspec": {
   "display_name": "Python 3",
   "language": "python",
   "name": "python3"
  },
  "language_info": {
   "codemirror_mode": {
    "name": "ipython",
    "version": 3
   },
   "file_extension": ".py",
   "mimetype": "text/x-python",
   "name": "python",
   "nbconvert_exporter": "python",
   "pygments_lexer": "ipython3",
   "version": "3.5.3"
  }
 },
 "nbformat": 4,
 "nbformat_minor": 0
}
